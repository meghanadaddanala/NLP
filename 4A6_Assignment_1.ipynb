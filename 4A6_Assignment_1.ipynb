{
  "nbformat": 4,
  "nbformat_minor": 0,
  "metadata": {
    "colab": {
      "name": "4A6_Assignment_1.ipynb",
      "provenance": [],
      "collapsed_sections": [],
      "include_colab_link": true
    },
    "kernelspec": {
      "name": "python3",
      "display_name": "Python 3"
    },
    "language_info": {
      "name": "python"
    }
  },
  "cells": [
    {
      "cell_type": "markdown",
      "metadata": {
        "id": "view-in-github",
        "colab_type": "text"
      },
      "source": [
        "<a href=\"https://colab.research.google.com/github/meghanadaddanala/NLP/blob/main/4A6_Assignment_1.ipynb\" target=\"_parent\"><img src=\"https://colab.research.google.com/assets/colab-badge.svg\" alt=\"Open In Colab\"/></a>"
      ]
    },
    {
      "cell_type": "markdown",
      "source": [
        "6th question: Find (term * Doc) matrix using TF-IDF? And find cosine similarity between DOC 1 and DOC 2?\n",
        "\n",
        "DCO 1: A computer network is a set of computers sharing resources located on or provided by network nodes. The computers use common communication protocols over digital interconnections to communicate with each other. \n",
        "\n",
        "DOC 2: An operating system (OS) is system software that manages computer hardware, software resources, and provides common services for computer programs.Time-sharing operating systems schedule tasks for efficient use of the system and may also include accounting software for cost allocation of processor time, mass storage, printing, and other resources.\n",
        "\n",
        "DOC 3: An operating system (OS) is the program that, after being initially loaded into the computer by a boot program, manages all of the other application programs in a computer. The application programs make use of the operating system by making requests for services through a defined application program interface (API)."
      ],
      "metadata": {
        "id": "UOZLiXYWrT1N"
      }
    },
    {
      "cell_type": "code",
      "source": [
        "Doc_1_2_3 = ['A computer network is a set of computers sharing resources located on or provided by network nodes. The computers use common communication protocols over digital interconnections to communicate with each other.',\n",
        "'An operating system (OS) is system software that manages computer hardware, software resources, and provides common services for computer programs. Time-sharing operating systems schedule tasks for efficient use of the system and may also include accounting software for cost allocation of processor time, mass storage, printing, and other resources.',\n",
        "'An operating system (OS) is the program that, after being initially loaded into the computer by a boot program, manages all of the other application programs in a computer. The application programs make use of the operating system by making requests for services through a defined application program interface (API).']\n",
        "\n",
        "Doc_1_2 = ['A computer network is a set of computers sharing resources located on or provided by network nodes. The computers use common communication protocols over digital interconnections to communicate with each other.',\n",
        "'An operating system (OS) is system software that manages computer hardware, software resources, and provides common services for computer programs. Time-sharing operating systems schedule tasks for efficient use of the system and may also include accounting software for cost allocation of processor time, mass storage, printing, and other resources.']"
      ],
      "metadata": {
        "id": "TuFtCkFHrfui"
      },
      "execution_count": 16,
      "outputs": []
    },
    {
      "cell_type": "code",
      "source": [
        "from sklearn.feature_extraction.text import TfidfVectorizer\n",
        "from sklearn.metrics.pairwise import cosine_similarity"
      ],
      "metadata": {
        "id": "AAABd3UOyzVl"
      },
      "execution_count": 17,
      "outputs": []
    },
    {
      "cell_type": "code",
      "source": [
        "# Initializing  an instance of tf-idf vectorizer\n",
        "tf_idf_vectorizer = TfidfVectorizer()"
      ],
      "metadata": {
        "id": "uTosJeeay1Fz"
      },
      "execution_count": 18,
      "outputs": []
    },
    {
      "cell_type": "code",
      "source": [
        "# Generate the tf-idf vectors for the Documents 1, 2 and 3 printing the shape of the matrix \n",
        "tf_idf_response1 = tf_idf_vectorizer.fit_transform(Doc_1_2_3)\n",
        "print(\"TF-IDF matrix for DOC 1, 2 and  3 : \", tf_idf_response1.shape)\n",
        "\n"
      ],
      "metadata": {
        "colab": {
          "base_uri": "https://localhost:8080/"
        },
        "id": "XGdRAAVOy-NJ",
        "outputId": "991cf78b-3f72-48c3-8ae2-9aa7f83b56c6"
      },
      "execution_count": 19,
      "outputs": [
        {
          "output_type": "stream",
          "name": "stdout",
          "text": [
            "TF-IDF matrix for DOC 1, 2 and  3 :  (3, 72)\n"
          ]
        }
      ]
    },
    {
      "cell_type": "code",
      "source": [
        "# Generate the tf-idf vectors for the Documents 1 & 2, print the shape of the matrix and their cosine similarities\n",
        "tf_idf_response2 = tf_idf_vectorizer.fit_transform(Doc_1_2)\n",
        "print(\"TF-IDF Matrix Shape for DOC 1 & 2 : \", tf_idf_response2.shape)\n",
        "cos_sim = cosine_similarity(tf_idf_response2, tf_idf_response2)\n",
        "print(\"cosine similarity matrix Between documents 1 and 2 : \")\n",
        "print(cos_sim)"
      ],
      "metadata": {
        "colab": {
          "base_uri": "https://localhost:8080/"
        },
        "id": "fEDripQgzLe5",
        "outputId": "edbdd396-3260-47c7-9e29-3df21cb2d64f"
      },
      "execution_count": 15,
      "outputs": [
        {
          "output_type": "stream",
          "name": "stdout",
          "text": [
            "TF-IDF Matrix Shape for DOC 1 & 2 :  (2, 55)\n",
            "cosine similarity matrix Between documents 1 and 2 : \n",
            "[[1.         0.13117019]\n",
            " [0.13117019 1.        ]]\n"
          ]
        }
      ]
    }
  ]
}